{
 "cells": [
  {
   "cell_type": "code",
   "execution_count": 45,
   "metadata": {},
   "outputs": [],
   "source": [
    "import backtrader as bt\n",
    "import backtrader.analyzers as btanalyzers\n",
    "import matplotlib\n",
    "\n",
    "from datetime import datetime"
   ]
  },
  {
   "cell_type": "code",
   "execution_count": 43,
   "metadata": {},
   "outputs": [],
   "source": [
    "class MaCrossStrategy(bt.Strategy):\n",
    " \n",
    "    def __init__(self):\n",
    "        ma_fast = bt.ind.SMA(period = 10)\n",
    "        ma_slow = bt.ind.SMA(period = 50)\n",
    "         \n",
    "        self.crossover = bt.ind.CrossOver(ma_fast, ma_slow)\n",
    " \n",
    "    def next(self):\n",
    "        if not self.position:\n",
    "            if self.crossover > 0: \n",
    "                self.buy()\n",
    "        elif self.crossover < 0: \n",
    "            self.close()"
   ]
  },
  {
   "cell_type": "code",
   "execution_count": 13,
   "metadata": {},
   "outputs": [],
   "source": [
    "cerebro = bt.Cerebro()"
   ]
  },
  {
   "cell_type": "code",
   "execution_count": 28,
   "metadata": {},
   "outputs": [
    {
     "data": {
      "text/plain": [
       "<backtrader.feeds.yahoo.YahooFinanceData at 0x65fe1c0>"
      ]
     },
     "execution_count": 28,
     "metadata": {},
     "output_type": "execute_result"
    }
   ],
   "source": [
    "data = bt.feeds.YahooFinanceData(dataname = 'AAPL', fromdate = datetime(2010, 1, 1), todate = datetime(2020, 1, 1))\n",
    "cerebro.adddata(data)\n"
   ]
  },
  {
   "cell_type": "code",
   "execution_count": 15,
   "metadata": {},
   "outputs": [],
   "source": [
    "cerebro.addstrategy(MaCrossStrategy)\n",
    " \n",
    "cerebro.broker.setcash(1000000.0)"
   ]
  },
  {
   "cell_type": "code",
   "execution_count": 16,
   "metadata": {},
   "outputs": [],
   "source": [
    "cerebro.addsizer(bt.sizers.PercentSizer, percents = 10)\n",
    " \n",
    "cerebro.addanalyzer(btanalyzers.SharpeRatio, _name = \"sharpe\")\n",
    "cerebro.addanalyzer(btanalyzers.Transactions, _name = \"trans\")\n",
    "cerebro.addanalyzer(btanalyzers.TradeAnalyzer, _name = \"trades\")\n",
    " \n",
    "back = cerebro.run()\n",
    " "
   ]
  },
  {
   "cell_type": "code",
   "execution_count": 17,
   "metadata": {},
   "outputs": [
    {
     "data": {
      "text/plain": [
       "1211998.504301385"
      ]
     },
     "execution_count": 17,
     "metadata": {},
     "output_type": "execute_result"
    }
   ],
   "source": [
    "cerebro.broker.getvalue()\n"
   ]
  },
  {
   "cell_type": "code",
   "execution_count": 18,
   "metadata": {},
   "outputs": [
    {
     "data": {
      "text/plain": [
       "OrderedDict([('sharperatio', 0.48732189026111133)])"
      ]
     },
     "execution_count": 18,
     "metadata": {},
     "output_type": "execute_result"
    }
   ],
   "source": [
    "back[0].analyzers.sharpe.get_analysis()"
   ]
  },
  {
   "cell_type": "code",
   "execution_count": 19,
   "metadata": {},
   "outputs": [
    {
     "data": {
      "text/plain": [
       "OrderedDict([(datetime.datetime(2010, 8, 2, 23, 59, 59, 999989),\n",
       "              [[12722.64631043257, 7.96, 0, 'AAPL', -101272.26463104326]]),\n",
       "             (datetime.datetime(2010, 8, 17, 23, 59, 59, 999989),\n",
       "              [[-12722.64631043257, 7.64, 0, 'AAPL', 97201.01781170483]]),\n",
       "             (datetime.datetime(2010, 9, 14, 23, 59, 59, 999989),\n",
       "              [[12205.009230155165, 8.14, 0, 'AAPL', -99348.77513346304]]),\n",
       "             (datetime.datetime(2011, 3, 21, 23, 59, 59, 999989),\n",
       "              [[-12205.009230155165, 10.27, 0, 'AAPL', 125345.44479369353]]),\n",
       "             (datetime.datetime(2011, 5, 3, 23, 59, 59, 999989),\n",
       "              [[9659.030461634138, 10.63, 0, 'AAPL', -102675.49380717089]]),\n",
       "             (datetime.datetime(2011, 5, 23, 23, 59, 59, 999989),\n",
       "              [[-9659.030461634138, 10.08, 0, 'AAPL', 97363.02705327212]]),\n",
       "             (datetime.datetime(2011, 7, 8, 23, 59, 59, 999989),\n",
       "              [[9309.642455009094, 10.8, 0, 'AAPL', -100544.13851409823]]),\n",
       "             (datetime.datetime(2011, 10, 11, 23, 59, 59, 999989),\n",
       "              [[-9309.642455009094, 12.0, 0, 'AAPL', 111715.70946010912]]),\n",
       "             (datetime.datetime(2011, 10, 14, 23, 59, 59, 999989),\n",
       "              [[8235.452940969582, 12.74, 0, 'AAPL', -104919.67046795248]]),\n",
       "             (datetime.datetime(2011, 11, 15, 23, 59, 59, 999989),\n",
       "              [[-8235.452940969582, 11.64, 0, 'AAPL', 95860.67223288595]]),\n",
       "             (datetime.datetime(2011, 12, 29, 23, 59, 59, 999989),\n",
       "              [[8282.321372340955, 12.33, 0, 'AAPL', -102121.02252096398]]),\n",
       "             (datetime.datetime(2012, 5, 7, 23, 59, 59, 999989),\n",
       "              [[-8282.321372340955, 17.16, 0, 'AAPL', 142124.6347493708]]),\n",
       "             (datetime.datetime(2012, 6, 21, 23, 59, 59, 999989),\n",
       "              [[5914.687938694662, 17.89, 0, 'AAPL', -105813.7672232475]]),\n",
       "             (datetime.datetime(2012, 10, 11, 23, 59, 59, 999989),\n",
       "              [[-5914.687938694662, 19.84, 0, 'AAPL', 117347.4087037021]]),\n",
       "             (datetime.datetime(2013, 5, 8, 23, 59, 59, 999989),\n",
       "              [[7526.461199063283, 14.23, 0, 'AAPL', -107101.54286267053]]),\n",
       "             (datetime.datetime(2013, 6, 21, 23, 59, 59, 999989),\n",
       "              [[-7526.461199063283, 13.06, 0, 'AAPL', 98295.58325976648]]),\n",
       "             (datetime.datetime(2013, 7, 26, 23, 59, 59, 999989),\n",
       "              [[7753.519524498868, 13.59, 0, 'AAPL', -105370.33033793962]]),\n",
       "             (datetime.datetime(2013, 9, 25, 23, 59, 59, 999989),\n",
       "              [[-7753.519524498868, 15.37, 0, 'AAPL', 119171.5950915476]]),\n",
       "             (datetime.datetime(2013, 9, 30, 23, 59, 59, 999989),\n",
       "              [[7088.055950280177, 15.0, 0, 'AAPL', -106320.83925420266]]),\n",
       "             (datetime.datetime(2014, 1, 17, 23, 59, 59, 999989),\n",
       "              [[-7088.055950280177, 17.43, 0, 'AAPL', 123544.81521338348]]),\n",
       "             (datetime.datetime(2014, 1, 24, 23, 59, 59, 999989),\n",
       "              [[6214.346209423686, 17.51, 0, 'AAPL', -108813.20212700874]]),\n",
       "             (datetime.datetime(2014, 1, 29, 23, 59, 59, 999989),\n",
       "              [[-6214.346209423686, 15.93, 0, 'AAPL', 98994.53511611931]]),\n",
       "             (datetime.datetime(2014, 3, 14, 23, 59, 59, 999989),\n",
       "              [[6417.684627183132, 16.81, 0, 'AAPL', -107881.27858294843]]),\n",
       "             (datetime.datetime(2014, 4, 15, 23, 59, 59, 999989),\n",
       "              [[-6417.684627183132, 16.54, 0, 'AAPL', 106148.50373360899]]),\n",
       "             (datetime.datetime(2014, 4, 28, 23, 59, 59, 999989),\n",
       "              [[5945.712990959599, 18.21, 0, 'AAPL', -108271.4335653743]]),\n",
       "             (datetime.datetime(2014, 10, 16, 23, 59, 59, 999989),\n",
       "              [[-5945.712990959599, 21.49, 0, 'AAPL', 127773.37217572177]]),\n",
       "             (datetime.datetime(2014, 10, 27, 23, 59, 59, 999989),\n",
       "              [[4649.060246585562, 23.58, 0, 'AAPL', -109624.84061448753]]),\n",
       "             (datetime.datetime(2015, 1, 6, 23, 59, 59, 999989),\n",
       "              [[-4649.060246585562, 24.07, 0, 'AAPL', 111902.88013531448]]),\n",
       "             (datetime.datetime(2015, 2, 3, 23, 59, 59, 999989),\n",
       "              [[4114.591790625483, 26.77, 0, 'AAPL', -110147.62223504417]]),\n",
       "             (datetime.datetime(2015, 4, 22, 23, 59, 59, 999989),\n",
       "              [[-4114.591790625483, 28.8, 0, 'AAPL', 118500.2435700139]]),\n",
       "             (datetime.datetime(2015, 4, 23, 23, 59, 59, 999989),\n",
       "              [[3808.9243099849127, 29.1, 0, 'AAPL', -110839.69742056096]]),\n",
       "             (datetime.datetime(2015, 6, 18, 23, 59, 59, 999989),\n",
       "              [[-3808.9243099849127, 28.97, 0, 'AAPL', 110344.53726026292]]),\n",
       "             (datetime.datetime(2015, 10, 23, 23, 59, 59, 999989),\n",
       "              [[4203.512721658974, 26.7, 0, 'AAPL', -112233.78966829462]]),\n",
       "             (datetime.datetime(2015, 12, 16, 23, 59, 59, 999989),\n",
       "              [[-4203.512721658974, 25.52, 0, 'AAPL', 107273.64465673703]]),\n",
       "             (datetime.datetime(2016, 3, 8, 23, 59, 59, 999989),\n",
       "              [[4698.716175311277, 23.28, 0, 'AAPL', -109386.11256124653]]),\n",
       "             (datetime.datetime(2016, 5, 2, 23, 59, 59, 999989),\n",
       "              [[-4698.716175311277, 21.71, 0, 'AAPL', 102009.12816600782]]),\n",
       "             (datetime.datetime(2016, 7, 14, 23, 59, 59, 999989),\n",
       "              [[4878.857981588205, 22.63, 0, 'AAPL', -110408.55612334107]]),\n",
       "             (datetime.datetime(2016, 11, 9, 23, 59, 59, 999989),\n",
       "              [[-4878.857981588205, 25.81, 0, 'AAPL', 125923.32450479156]]),\n",
       "             (datetime.datetime(2016, 12, 16, 23, 59, 59, 999989),\n",
       "              [[4094.653308959396, 27.35, 0, 'AAPL', -111988.76800003948]]),\n",
       "             (datetime.datetime(2017, 6, 20, 23, 59, 59, 999989),\n",
       "              [[-4094.653308959396, 34.78, 0, 'AAPL', 142412.0420856078]]),\n",
       "             (datetime.datetime(2017, 7, 26, 23, 59, 59, 999989),\n",
       "              [[3163.3093008640412, 36.32, 0, 'AAPL', -114891.39380738197]]),\n",
       "             (datetime.datetime(2017, 9, 26, 23, 59, 59, 999989),\n",
       "              [[-3163.3093008640412, 36.09, 0, 'AAPL', 114163.83266818326]]),\n",
       "             (datetime.datetime(2017, 10, 30, 23, 59, 59, 999989),\n",
       "              [[2949.2943332043465, 38.97, 0, 'AAPL', -114934.00016497337]]),\n",
       "             (datetime.datetime(2018, 2, 2, 23, 59, 59, 999989),\n",
       "              [[-2949.2943332043465, 39.61, 0, 'AAPL', 116821.54853822416]]),\n",
       "             (datetime.datetime(2018, 2, 27, 23, 59, 59, 999989),\n",
       "              [[2671.0097046561937, 42.91, 0, 'AAPL', -114613.02642679727]]),\n",
       "             (datetime.datetime(2018, 4, 2, 23, 59, 59, 999989),\n",
       "              [[-2671.0097046561937, 39.93, 0, 'AAPL', 106653.41750692182]]),\n",
       "             (datetime.datetime(2018, 4, 16, 23, 59, 59, 999989),\n",
       "              [[2717.0791983676554, 41.94, 0, 'AAPL', -113954.30157953946]]),\n",
       "             (datetime.datetime(2018, 4, 25, 23, 59, 59, 999989),\n",
       "              [[-2717.0791983676554, 38.96, 0, 'AAPL', 105857.40556840386]]),\n",
       "             (datetime.datetime(2018, 5, 9, 23, 59, 59, 999989),\n",
       "              [[2533.1369592318642, 44.7, 0, 'AAPL', -113231.22207766434]]),\n",
       "             (datetime.datetime(2018, 7, 6, 23, 59, 59, 999989),\n",
       "              [[-2533.1369592318642, 44.6, 0, 'AAPL', 112977.90838174114]]),\n",
       "             (datetime.datetime(2018, 7, 13, 23, 59, 59, 999989),\n",
       "              [[2457.06015827996, 45.96, 0, 'AAPL', -112926.48487454696]]),\n",
       "             (datetime.datetime(2018, 10, 22, 23, 59, 59, 999989),\n",
       "              [[-2457.06015827996, 53.05, 0, 'AAPL', 130347.04139675187]]),\n",
       "             (datetime.datetime(2019, 2, 7, 23, 59, 59, 999989),\n",
       "              [[2716.6817517816266, 41.76, 0, 'AAPL', -113448.62995440072]]),\n",
       "             (datetime.datetime(2019, 5, 21, 23, 59, 59, 999989),\n",
       "              [[-2716.6817517816266, 45.23, 0, 'AAPL', 122875.51563308296]]),\n",
       "             (datetime.datetime(2019, 6, 21, 23, 59, 59, 999989),\n",
       "              [[2373.4426795288064, 48.54, 0, 'AAPL', -115206.90766432826]])])"
      ]
     },
     "execution_count": 19,
     "metadata": {},
     "output_type": "execute_result"
    }
   ],
   "source": [
    "back[0].analyzers.trans.get_analysis()"
   ]
  },
  {
   "cell_type": "code",
   "execution_count": 20,
   "metadata": {},
   "outputs": [
    {
     "data": {
      "text/plain": [
       "AutoOrderedDict([('total',\n",
       "                  AutoOrderedDict([('total', 28),\n",
       "                                   ('open', 1),\n",
       "                                   ('closed', 27)])),\n",
       "                 ('streak',\n",
       "                  AutoOrderedDict([('won',\n",
       "                                    AutoOrderedDict([('current', 2),\n",
       "                                                     ('longest', 3)])),\n",
       "                                   ('lost',\n",
       "                                    AutoOrderedDict([('current', 0),\n",
       "                                                     ('longest', 3)]))])),\n",
       "                 ('pnl',\n",
       "                  AutoOrderedDict([('gross',\n",
       "                                    AutoOrderedDict([('total',\n",
       "                                                      155866.5849305285),\n",
       "                                                     ('average',\n",
       "                                                      5772.8364789084635)])),\n",
       "                                   ('net',\n",
       "                                    AutoOrderedDict([('total',\n",
       "                                                      155866.5849305285),\n",
       "                                                     ('average',\n",
       "                                                      5772.8364789084635)]))])),\n",
       "                 ('won',\n",
       "                  AutoOrderedDict([('total', 14),\n",
       "                                   ('pnl',\n",
       "                                    AutoOrderedDict([('total',\n",
       "                                                      224536.3675351925),\n",
       "                                                     ('average',\n",
       "                                                      16038.311966799463),\n",
       "                                                     ('max',\n",
       "                                                      40003.61222840681)]))])),\n",
       "                 ('lost',\n",
       "                  AutoOrderedDict([('total', 13),\n",
       "                                   ('pnl',\n",
       "                                    AutoOrderedDict([('total',\n",
       "                                                      -68669.78260466397),\n",
       "                                                     ('average',\n",
       "                                                      -5282.290969589536),\n",
       "                                                     ('max',\n",
       "                                                      -9818.667010889434)]))])),\n",
       "                 ('long',\n",
       "                  AutoOrderedDict([('total', 27),\n",
       "                                   ('pnl',\n",
       "                                    AutoOrderedDict([('total',\n",
       "                                                      155866.5849305285),\n",
       "                                                     ('average',\n",
       "                                                      5772.8364789084635),\n",
       "                                                     ('won',\n",
       "                                                      AutoOrderedDict([('total',\n",
       "                                                                        224536.3675351925),\n",
       "                                                                       ('average',\n",
       "                                                                        16038.311966799463),\n",
       "                                                                       ('max',\n",
       "                                                                        40003.61222840681)])),\n",
       "                                                     ('lost',\n",
       "                                                      AutoOrderedDict([('total',\n",
       "                                                                        -68669.78260466397),\n",
       "                                                                       ('average',\n",
       "                                                                        -5282.290969589536),\n",
       "                                                                       ('max',\n",
       "                                                                        -9818.667010889434)]))])),\n",
       "                                   ('won', 14),\n",
       "                                   ('lost', 13)])),\n",
       "                 ('short',\n",
       "                  AutoOrderedDict([('total', 0),\n",
       "                                   ('pnl',\n",
       "                                    AutoOrderedDict([('total', 0.0),\n",
       "                                                     ('average', 0.0),\n",
       "                                                     ('won',\n",
       "                                                      AutoOrderedDict([('total',\n",
       "                                                                        0.0),\n",
       "                                                                       ('average',\n",
       "                                                                        0.0),\n",
       "                                                                       ('max',\n",
       "                                                                        0.0)])),\n",
       "                                                     ('lost',\n",
       "                                                      AutoOrderedDict([('total',\n",
       "                                                                        0.0),\n",
       "                                                                       ('average',\n",
       "                                                                        0.0),\n",
       "                                                                       ('max',\n",
       "                                                                        0.0)]))])),\n",
       "                                   ('won', 0),\n",
       "                                   ('lost', 0)])),\n",
       "                 ('len',\n",
       "                  AutoOrderedDict([('total', 1447),\n",
       "                                   ('average', 53.592592592592595),\n",
       "                                   ('max', 130),\n",
       "                                   ('min', 3),\n",
       "                                   ('won',\n",
       "                                    AutoOrderedDict([('total', 1117),\n",
       "                                                     ('average',\n",
       "                                                      79.78571428571429),\n",
       "                                                     ('max', 130),\n",
       "                                                     ('min', 42)])),\n",
       "                                   ('lost',\n",
       "                                    AutoOrderedDict([('total', 330),\n",
       "                                                     ('average',\n",
       "                                                      25.384615384615383),\n",
       "                                                     ('max', 43),\n",
       "                                                     ('min', 3)])),\n",
       "                                   ('long',\n",
       "                                    AutoOrderedDict([('total', 1447),\n",
       "                                                     ('average',\n",
       "                                                      53.592592592592595),\n",
       "                                                     ('max', 130),\n",
       "                                                     ('min', 3),\n",
       "                                                     ('won',\n",
       "                                                      AutoOrderedDict([('total',\n",
       "                                                                        1117),\n",
       "                                                                       ('average',\n",
       "                                                                        79.78571428571429),\n",
       "                                                                       ('max',\n",
       "                                                                        130),\n",
       "                                                                       ('min',\n",
       "                                                                        42)])),\n",
       "                                                     ('lost',\n",
       "                                                      AutoOrderedDict([('total',\n",
       "                                                                        330),\n",
       "                                                                       ('average',\n",
       "                                                                        25.384615384615383),\n",
       "                                                                       ('max',\n",
       "                                                                        43),\n",
       "                                                                       ('min',\n",
       "                                                                        3)]))])),\n",
       "                                   ('short',\n",
       "                                    AutoOrderedDict([('total', 0),\n",
       "                                                     ('average', 0.0),\n",
       "                                                     ('max', 0),\n",
       "                                                     ('min', 2147483647),\n",
       "                                                     ('won',\n",
       "                                                      AutoOrderedDict([('total',\n",
       "                                                                        0),\n",
       "                                                                       ('average',\n",
       "                                                                        0.0),\n",
       "                                                                       ('max',\n",
       "                                                                        0),\n",
       "                                                                       ('min',\n",
       "                                                                        2147483647)])),\n",
       "                                                     ('lost',\n",
       "                                                      AutoOrderedDict([('total',\n",
       "                                                                        0),\n",
       "                                                                       ('average',\n",
       "                                                                        0.0),\n",
       "                                                                       ('max',\n",
       "                                                                        0),\n",
       "                                                                       ('min',\n",
       "                                                                        2147483647)]))]))]))])"
      ]
     },
     "execution_count": 20,
     "metadata": {},
     "output_type": "execute_result"
    }
   ],
   "source": [
    "back[0].analyzers.trades.get_analysis()\n",
    " "
   ]
  },
  {
   "cell_type": "code",
   "execution_count": null,
   "metadata": {},
   "outputs": [],
   "source": []
  },
  {
   "cell_type": "code",
   "execution_count": null,
   "metadata": {},
   "outputs": [],
   "source": []
  }
 ],
 "metadata": {
  "kernelspec": {
   "display_name": "Python 3",
   "language": "python",
   "name": "python3"
  },
  "language_info": {
   "codemirror_mode": {
    "name": "ipython",
    "version": 3
   },
   "file_extension": ".py",
   "mimetype": "text/x-python",
   "name": "python",
   "nbconvert_exporter": "python",
   "pygments_lexer": "ipython3",
   "version": "3.8.2"
  }
 },
 "nbformat": 4,
 "nbformat_minor": 4
}
